{
 "cells": [
  {
   "cell_type": "markdown",
   "metadata": {},
   "source": [
    "## Predicting Nutritional Value for Variety of Food Items\n",
    "### Vishnupriya Venkateswaran\n",
    "### 10/20/2019"
   ]
  },
  {
   "cell_type": "markdown",
   "metadata": {},
   "source": [
    "### While building a model we follow these steps as below:\n",
    "\n",
    "#### Step 1: Exploratory Data Analysis on the datasets used.\n",
    "#### Step 2: Visually respresnt the data and find correlation between variables\n",
    "#### Step 3: Divide the data into training and testing sets\n",
    "#### Step 4: Standardize the features and target\n",
    "#### Step 5: Choose the model\n",
    "#### Step 6: Train the model on the training data\n",
    "#### Step 7: Test the model on the testing data\n",
    "#### Step 8: Get the accuracy of the model\n",
    "\n"
   ]
  },
  {
   "cell_type": "code",
   "execution_count": 1,
   "metadata": {},
   "outputs": [],
   "source": [
    "#Import required python packages and Helper functions to prepare dataset\n",
    "from utils import read_and_clean_data, split_X_y\n",
    "import numpy as np\n",
    "import matplotlib.pyplot as plt\n",
    "%matplotlib inline"
   ]
  },
  {
   "cell_type": "code",
   "execution_count": 2,
   "metadata": {},
   "outputs": [],
   "source": [
    "# Read the clean data\n",
    "dataset = read_and_clean_data(\"./data/Nutrients.xlsx\")\n",
    "\n",
    "# Split dataset into X and y\n",
    "X, y = split_X_y(dataset)"
   ]
  },
  {
   "cell_type": "code",
   "execution_count": 12,
   "metadata": {},
   "outputs": [
    {
     "data": {
      "text/plain": [
       "array([[15.87, 717, 0.85, ..., 14.2, '1', 0.0],\n",
       "       [16.72, 718, 0.49, ..., 9.4, '1', 0.0],\n",
       "       [0.24, 876, 0.28, ..., 205.0, '1', 0.0],\n",
       "       ...,\n",
       "       [26.0, 269, 0.0, ..., 164.0, 1.0, 0.0],\n",
       "       [79.2, 90, 16.1, ..., 164.0, 1.0, 0.0],\n",
       "       [78.5, 89, 19.8, ..., 164.0, 1.0, 0.0]], dtype=object)"
      ]
     },
     "execution_count": 12,
     "metadata": {},
     "output_type": "execute_result"
    }
   ],
   "source": [
    "X"
   ]
  },
  {
   "cell_type": "code",
   "execution_count": 13,
   "metadata": {},
   "outputs": [
    {
     "data": {
      "text/plain": [
       "array([[2.400e+01, 2.000e-02, 9.000e-02, 2.499e+03, 0.000e+00, 3.000e+00],\n",
       "       [2.300e+01, 5.000e-02, 5.000e-02, 2.468e+03, 0.000e+00, 4.000e+00],\n",
       "       [4.000e+00, 0.000e+00, 1.000e-02, 3.069e+03, 0.000e+00, 0.000e+00],\n",
       "       ...,\n",
       "       [1.300e+01, 3.600e+00, 1.900e-01, 0.000e+00, 0.000e+00, 0.000e+00],\n",
       "       [1.000e+01, 3.500e+00, 1.000e+00, 1.000e+02, 0.000e+00, 6.000e+00],\n",
       "       [1.180e+02, 1.400e+00, 1.000e+00, 1.000e+02, 0.000e+00, 1.500e+01]])"
      ]
     },
     "execution_count": 13,
     "metadata": {},
     "output_type": "execute_result"
    }
   ],
   "source": [
    "y"
   ]
  },
  {
   "cell_type": "code",
   "execution_count": 3,
   "metadata": {},
   "outputs": [],
   "source": [
    "# Split the data into train and test data\n",
    "from sklearn.model_selection import train_test_split\n",
    "\n",
    "X_train, X_test, y_train, y_test = train_test_split(X, y, test_size=0.40, random_state=42)\n"
   ]
  },
  {
   "cell_type": "code",
   "execution_count": 4,
   "metadata": {},
   "outputs": [],
   "source": [
    "# Transform the input data using sklearn RobustScaler\n",
    "#This is done to standardize our data so that all of them are robust against the differences in units\n",
    "from sklearn.preprocessing import RobustScaler\n",
    "\n",
    "scl_X = RobustScaler().fit(X_train)\n",
    "scl_y = RobustScaler().fit(y_train)\n",
    "\n",
    "input_x_train = scl_X.transform(X_train)\n",
    "input_y_train = scl_y.transform(y_train)\n",
    "\n",
    "input_x_test = scl_X.transform(X_test)\n",
    "input_y_test = scl_y.transform(y_test)"
   ]
  },
  {
   "cell_type": "markdown",
   "metadata": {},
   "source": [
    "#### Model chosen : Random Forset Classifier \n",
    "#### Since we want to predict multiple values we use the Multi Output Regressor. \n",
    "#### The algorithm uses bootstrapping to create randomly subsets of data with subsets of features from the original dataset. Then decision trees algorithm is used to build a model on each subset.Then each prediction of each model is averaged to create one final prediction, which would work well as we are predicting multiple nutrients values"
   ]
  },
  {
   "cell_type": "code",
   "execution_count": 5,
   "metadata": {},
   "outputs": [
    {
     "name": "stderr",
     "output_type": "stream",
     "text": [
      "/Applications/anaconda3/lib/python3.6/site-packages/sklearn/ensemble/weight_boosting.py:29: DeprecationWarning: numpy.core.umath_tests is an internal NumPy module and should not be imported. It will be removed in a future NumPy release.\n",
      "  from numpy.core.umath_tests import inner1d\n"
     ]
    }
   ],
   "source": [
    "# Import Model from sklearn\n",
    "from sklearn.ensemble import RandomForestRegressor\n",
    "from sklearn.multioutput import MultiOutputRegressor"
   ]
  },
  {
   "cell_type": "code",
   "execution_count": 6,
   "metadata": {},
   "outputs": [
    {
     "data": {
      "text/plain": [
       "MultiOutputRegressor(estimator=RandomForestRegressor(bootstrap=True, criterion='mse', max_depth=None,\n",
       "           max_features='sqrt', max_leaf_nodes=None,\n",
       "           min_impurity_decrease=0.0, min_impurity_split=None,\n",
       "           min_samples_leaf=1, min_samples_split=2,\n",
       "           min_weight_fraction_leaf=0.0, n_estimators=100, n_jobs=1,\n",
       "           oob_score=False, random_state=None, verbose=0, warm_start=False),\n",
       "           n_jobs=1)"
      ]
     },
     "execution_count": 6,
     "metadata": {},
     "output_type": "execute_result"
    }
   ],
   "source": [
    "#Define the more\n",
    "RF = MultiOutputRegressor(RandomForestRegressor(n_estimators=100,max_features=\"sqrt\"))\n",
    "RF.fit(input_x_train, input_y_train)"
   ]
  },
  {
   "cell_type": "code",
   "execution_count": 21,
   "metadata": {},
   "outputs": [
    {
     "data": {
      "text/plain": [
       "array([[-1.32142857e-01,  8.23333333e-01,  3.57535565e+00,\n",
       "        -7.15048544e-02,  3.91000000e+00, -1.65333333e-01],\n",
       "       [ 9.33035714e-01,  4.09082126e-01, -6.35983264e-03,\n",
       "         4.59053398e+00,  0.00000000e+00,  3.66666667e-03],\n",
       "       [ 7.71875000e+00, -3.84154589e-01,  3.59456067e-01,\n",
       "         2.11500000e+00,  2.89500000e+01, -1.23333333e-02],\n",
       "       ...,\n",
       "       [ 9.53571429e-01, -2.05555556e-01, -2.47322176e-01,\n",
       "         1.88029612e+01,  1.00000000e-02,  4.05133333e+00],\n",
       "       [ 1.61428571e-01, -2.84492754e-01, -2.48786611e-01,\n",
       "         2.40980583e+00,  4.30000000e-01, -1.20000000e-01],\n",
       "       [-1.13392857e-01, -5.77729469e-01,  2.23748685e-07,\n",
       "         2.70601942e+00,  4.90000000e-01,  0.00000000e+00]])"
      ]
     },
     "execution_count": 21,
     "metadata": {},
     "output_type": "execute_result"
    }
   ],
   "source": [
    "# Predicting the output\n",
    "a=RF.predict(input_x_test)\n",
    "a"
   ]
  },
  {
   "cell_type": "code",
   "execution_count": 22,
   "metadata": {},
   "outputs": [
    {
     "data": {
      "text/plain": [
       "0.9366197355554688"
      ]
     },
     "execution_count": 22,
     "metadata": {},
     "output_type": "execute_result"
    }
   ],
   "source": [
    "#Accuracy score for input training data\n",
    "RF.score(input_x_train, input_y_train)"
   ]
  },
  {
   "cell_type": "code",
   "execution_count": 23,
   "metadata": {},
   "outputs": [
    {
     "data": {
      "text/plain": [
       "0.5995799255199504"
      ]
     },
     "execution_count": 23,
     "metadata": {},
     "output_type": "execute_result"
    }
   ],
   "source": [
    "# score on Test Data\n",
    "RF.score(input_x_test, input_y_test)"
   ]
  },
  {
   "cell_type": "markdown",
   "metadata": {},
   "source": [
    "#### The performance of Multi Output Random Forest Model is about 60% which is not very bad."
   ]
  },
  {
   "cell_type": "code",
   "execution_count": null,
   "metadata": {},
   "outputs": [],
   "source": []
  }
 ],
 "metadata": {
  "kernelspec": {
   "display_name": "Python 3",
   "language": "python",
   "name": "python3"
  },
  "language_info": {
   "codemirror_mode": {
    "name": "ipython",
    "version": 3
   },
   "file_extension": ".py",
   "mimetype": "text/x-python",
   "name": "python",
   "nbconvert_exporter": "python",
   "pygments_lexer": "ipython3",
   "version": "3.6.5"
  }
 },
 "nbformat": 4,
 "nbformat_minor": 2
}
